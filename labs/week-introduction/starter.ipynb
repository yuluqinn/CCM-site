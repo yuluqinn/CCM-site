{
 "cells": [
  {
   "cell_type": "code",
   "execution_count": 1,
   "id": "209f8c5e-8b8c-4424-ad29-9270de95cdd9",
   "metadata": {},
   "outputs": [
    {
     "name": "stdout",
     "output_type": "stream",
     "text": [
      "This is a code cell\n"
     ]
    }
   ],
   "source": [
    "print(\"This is a code cell\")"
   ]
  },
  {
   "cell_type": "markdown",
   "id": "f95611c0-8d6e-4165-81f0-5b76be6fdcaf",
   "metadata": {
    "jp-MarkdownHeadingCollapsed": true,
    "tags": []
   },
   "source": [
    "# The Ipython kernel"
   ]
  },
  {
   "cell_type": "markdown",
   "id": "c1da46d7-f6c1-47bf-9a22-a24fa2de8430",
   "metadata": {},
   "source": [
    "# twelve problems"
   ]
  },
  {
   "cell_type": "code",
   "execution_count": 3,
   "id": "f7ab0c46-32e6-4ca7-8fa2-9ceb34a6a173",
   "metadata": {},
   "outputs": [
    {
     "name": "stdout",
     "output_type": "stream",
     "text": [
      "Variable   Type    Data/Info\n",
      "----------------------------\n",
      "i          int     10\n",
      "total      int     55\n"
     ]
    }
   ],
   "source": [
    "# declare the variable before you use it\n",
    "# check what variables have been declared: %whos\n",
    "%whos"
   ]
  },
  {
   "cell_type": "code",
   "execution_count": 4,
   "id": "5ee80036-9704-4b26-a179-4ecbcf139bb0",
   "metadata": {},
   "outputs": [
    {
     "name": "stdout",
     "output_type": "stream",
     "text": [
      "Variable   Type    Data/Info\n",
      "----------------------------\n",
      "a          int     10\n",
      "b          int     12\n",
      "c          int     22\n",
      "i          int     10\n",
      "total      int     55\n"
     ]
    }
   ],
   "source": [
    "a = 10\n",
    "b = 12\n",
    "c = a+b\n",
    "%whos"
   ]
  },
  {
   "cell_type": "markdown",
   "id": "06e3ad2a-e89c-4d57-877a-6fe1e5e78ec6",
   "metadata": {},
   "source": [
    "## Problem 1"
   ]
  },
  {
   "cell_type": "code",
   "execution_count": 7,
   "id": "6e6af835-6b60-4b9b-8f5e-63ea25d671cd",
   "metadata": {},
   "outputs": [
    {
     "name": "stdout",
     "output_type": "stream",
     "text": [
      "Hello, Connie!\n"
     ]
    }
   ],
   "source": [
    "def hello(name):\n",
    "    \"\"\"Returns a message containing \"Hello, <name>!\", \n",
    "    where <name> is passed in as an argument.\n",
    "    \n",
    "    Parameters\n",
    "    ----------\n",
    "    name : string\n",
    "        The name of the person to say hello to\n",
    "        \n",
    "    Returns\n",
    "    -------\n",
    "    the message containing \"Hello, <name>!\"\n",
    "    \n",
    "    \"\"\"\n",
    "    #raise NotImplementedError\n",
    "    print(\"Hello, \" + name + \"!\")\n",
    "    \n",
    "hello(\"Connie\")"
   ]
  },
  {
   "cell_type": "markdown",
   "id": "b57283c5-b88f-4447-b57a-f7a876c991aa",
   "metadata": {},
   "source": [
    "- Markdown is a special way of formatting text, you can bold or italicize text."
   ]
  },
  {
   "cell_type": "markdown",
   "id": "f191e5e3-3698-464c-991f-345a5897de34",
   "metadata": {},
   "source": [
    "## Problem 2\n",
    "italicize the word \"Banana\""
   ]
  },
  {
   "cell_type": "markdown",
   "id": "dcdb0980-c951-4d30-956e-3f7e11a597fd",
   "metadata": {},
   "source": [
    "**Banana**\n",
    "**Orange**"
   ]
  },
  {
   "cell_type": "markdown",
   "id": "5af63eb6-552d-4289-ba27-b479dbcfee78",
   "metadata": {},
   "source": [
    "- Apple\n",
    "- Banana \n",
    "- Orange"
   ]
  },
  {
   "cell_type": "markdown",
   "id": "9e919aa5-acbb-4d81-98f5-e0661cfcf1b4",
   "metadata": {},
   "source": [
    "- apple \n",
    "- banana\n",
    "- orange"
   ]
  },
  {
   "cell_type": "markdown",
   "id": "7e0f79b0-73bc-43ca-88f8-5d634538b155",
   "metadata": {},
   "source": [
    "1. **Strawberry**\n",
    "2. **Blueberry**\n",
    "3. **Raspberry**"
   ]
  },
  {
   "cell_type": "markdown",
   "id": "fad904ce-1da9-4751-86be-2f2ee04c2866",
   "metadata": {},
   "source": [
    "1. Strawberry\n",
    "2. Blueberry\n",
    "3. Raspberry"
   ]
  },
  {
   "cell_type": "markdown",
   "id": "28a96598-84d0-4f53-bf9b-8a9b44896770",
   "metadata": {},
   "source": [
    "1. **Fruits**\n",
    "    - **Apple**\n",
    "    - **Banana**\n",
    "    - **Orange**\n",
    "2. **Berries**\n",
    "    - **Strawberry**\n",
    "    - **Blueberry**\n",
    "    - **Raspberry**"
   ]
  },
  {
   "cell_type": "markdown",
   "id": "d40cbe65-88d6-44d5-a642-e1a64b1ae76b",
   "metadata": {},
   "source": [
    "1. FRUITS\n",
    "    - HI\n",
    "    - I LOVE YOU\n",
    "        - HEY\n",
    "        - ME IS HERE\n",
    "            - HOW ABOUT YOU? \n",
    "            - WHO ARE YOU\n",
    "                - HOW MANY NESTED LISTS CAN YOU INCORPORATE\n",
    "                    - MAYBE THAT'S THE END OF IT\n",
    "               \n",
    "        - I LOVE YOU _SO_ MUCH\n",
    "        - WHO ARE YOU SPEAKING ***TO***\n",
    "2. APPLES\n",
    "\n",
    "        "
   ]
  },
  {
   "cell_type": "markdown",
   "id": "cfee1b6f-ec56-4fbb-a35a-d2c1ab6c20fb",
   "metadata": {},
   "source": [
    "~~***HI I LOVE YOU***~~"
   ]
  },
  {
   "cell_type": "markdown",
   "id": "0787cb32-961a-49d9-8b46-eb6fdac0793f",
   "metadata": {},
   "source": [
    "WE ARE WRITING FORMULAS IN MARKDOWN, INCORPORATING LATEX\n",
    "$y = ax + b$\n",
    "\n",
    "$2^2 = 4$\n",
    "\n",
    "$y_1 = ax_1 + b$ "
   ]
  },
  {
   "cell_type": "markdown",
   "id": "e5f15fa6-f310-4a65-8857-f805aae60aaf",
   "metadata": {},
   "source": [
    "$X_{ij}^{(1)}$\n",
    "\n",
    "$x_{ij}^{(1)}$\n",
    "\n",
    "$\\Delta$\n",
    "\n",
    "$\\alpha + 2\\beta - \\gamma^2 + \\theta_{mn}- {(\\mu \\pi)}^{\\sigma + \\lambda}$\n",
    "\n",
    "- **$\\alpha$ - alpha**\n",
    "- **$\\beta$ - beta**\n",
    "- **$\\gamma$ - gamma**\n",
    "- **$\\theta$ - theta**\n",
    "- **$\\mu$ - mu**\n",
    "- **$\\pi$ - pi**\n",
    "- **$\\sigma$ - sigma**\n",
    "- **$\\lambda$ -lambda**"
   ]
  },
  {
   "cell_type": "markdown",
   "id": "6b17a258-06b6-4ce6-9282-177fb31d28e9",
   "metadata": {},
   "source": [
    "$$\\sum_{i=1}^N x_i= x_1 + x_2 + ... + x_{N-1} + x_N$$\n",
    "\n",
    "$$\\prod_{j=1}^M y_j = y_1 \\cdot y_2 \\cdot ... \\cdot y_{M-1} \\cdot y_M$$"
   ]
  },
  {
   "cell_type": "markdown",
   "id": "eed6a7d3-71cb-4054-9bdf-ab0ff7b3891c",
   "metadata": {},
   "source": [
    "$$F(y) = \\int_{-\\infty}^y \\dfrac{1}{2\\pi\\sigma^2}e^{\\dfrac{-{(x-\\mu)}^2}{2\\sigma^2}}d_x$$\n",
    "\n",
    "$$\\sum_{n=1}^{\\infty} 2^{-n} = 1 $$"
   ]
  },
  {
   "cell_type": "markdown",
   "id": "14f31f16-20fc-423d-b2d8-b78fff406d9d",
   "metadata": {},
   "source": [
    "We want to learn how to display data and plots inline... \n",
    "ratings about similarities on colors and kinship relations.\n",
    "1. import Libraries\n",
    "    -  import pandas as pd\n",
    "    - import numpy as np\n",
    "    - import matplotlib.pyplot as plt\n",
    "    > note here: pd, np, plt as the abbreviation for pandas, numpy and matplotlib.pyplot, those abbs are easier for us to manipulate later in the code.\n",
    "    - from util import mds(plz what is mds? some utility functions that we need later in the code)\n",
    "2. Load data\n",
    "    - colors = pd.read_csv(\"data/color_similarities.csv\")\n",
    "    > note: we read in the csv file with pandas, it creates a DataFrame object. \n",
    "    > Tabular data(understand what this is) including rows and columns\n",
    "3. plot in the Notebook"
   ]
  },
  {
   "cell_type": "code",
   "execution_count": 10,
   "id": "007c9cf2-cb02-4263-a694-0f235bee98f4",
   "metadata": {},
   "outputs": [],
   "source": [
    "import numpy as np\n",
    "import matplotlib.pyplot as plt\n",
    "import pandas as pd\n",
    "from util import mds"
   ]
  },
  {
   "cell_type": "code",
   "execution_count": 11,
   "id": "d102f411-7789-41e4-98fa-af5fc9eab1ba",
   "metadata": {},
   "outputs": [],
   "source": [
    "colors = pd.read_csv(\"data/color_similarities.csv\")"
   ]
  },
  {
   "cell_type": "code",
   "execution_count": 16,
   "id": "5cede491-4f1e-4f0d-a0ce-da988ffae3bd",
   "metadata": {},
   "outputs": [
    {
     "data": {
      "text/html": [
       "<div>\n",
       "<style scoped>\n",
       "    .dataframe tbody tr th:only-of-type {\n",
       "        vertical-align: middle;\n",
       "    }\n",
       "\n",
       "    .dataframe tbody tr th {\n",
       "        vertical-align: top;\n",
       "    }\n",
       "\n",
       "    .dataframe thead th {\n",
       "        text-align: right;\n",
       "    }\n",
       "</style>\n",
       "<table border=\"1\" class=\"dataframe\">\n",
       "  <thead>\n",
       "    <tr style=\"text-align: right;\">\n",
       "      <th></th>\n",
       "      <th>wavelength1</th>\n",
       "      <th>wavelength2</th>\n",
       "      <th>rating</th>\n",
       "    </tr>\n",
       "  </thead>\n",
       "  <tbody>\n",
       "    <tr>\n",
       "      <th>0</th>\n",
       "      <td>434</td>\n",
       "      <td>434</td>\n",
       "      <td>1.000000</td>\n",
       "    </tr>\n",
       "    <tr>\n",
       "      <th>1</th>\n",
       "      <td>434</td>\n",
       "      <td>445</td>\n",
       "      <td>0.978166</td>\n",
       "    </tr>\n",
       "    <tr>\n",
       "      <th>2</th>\n",
       "      <td>434</td>\n",
       "      <td>465</td>\n",
       "      <td>0.874416</td>\n",
       "    </tr>\n",
       "    <tr>\n",
       "      <th>3</th>\n",
       "      <td>434</td>\n",
       "      <td>472</td>\n",
       "      <td>0.874416</td>\n",
       "    </tr>\n",
       "    <tr>\n",
       "      <th>4</th>\n",
       "      <td>434</td>\n",
       "      <td>490</td>\n",
       "      <td>0.751758</td>\n",
       "    </tr>\n",
       "    <tr>\n",
       "      <th>...</th>\n",
       "      <td>...</td>\n",
       "      <td>...</td>\n",
       "      <td>...</td>\n",
       "    </tr>\n",
       "    <tr>\n",
       "      <th>191</th>\n",
       "      <td>674</td>\n",
       "      <td>600</td>\n",
       "      <td>0.815719</td>\n",
       "    </tr>\n",
       "    <tr>\n",
       "      <th>192</th>\n",
       "      <td>674</td>\n",
       "      <td>610</td>\n",
       "      <td>0.913454</td>\n",
       "    </tr>\n",
       "    <tr>\n",
       "      <th>193</th>\n",
       "      <td>674</td>\n",
       "      <td>628</td>\n",
       "      <td>0.944170</td>\n",
       "    </tr>\n",
       "    <tr>\n",
       "      <th>194</th>\n",
       "      <td>674</td>\n",
       "      <td>651</td>\n",
       "      <td>0.960271</td>\n",
       "    </tr>\n",
       "    <tr>\n",
       "      <th>195</th>\n",
       "      <td>674</td>\n",
       "      <td>674</td>\n",
       "      <td>1.000000</td>\n",
       "    </tr>\n",
       "  </tbody>\n",
       "</table>\n",
       "<p>196 rows × 3 columns</p>\n",
       "</div>"
      ],
      "text/plain": [
       "     wavelength1  wavelength2    rating\n",
       "0            434          434  1.000000\n",
       "1            434          445  0.978166\n",
       "2            434          465  0.874416\n",
       "3            434          472  0.874416\n",
       "4            434          490  0.751758\n",
       "..           ...          ...       ...\n",
       "191          674          600  0.815719\n",
       "192          674          610  0.913454\n",
       "193          674          628  0.944170\n",
       "194          674          651  0.960271\n",
       "195          674          674  1.000000\n",
       "\n",
       "[196 rows x 3 columns]"
      ]
     },
     "execution_count": 16,
     "metadata": {},
     "output_type": "execute_result"
    }
   ],
   "source": [
    "colors #printing out the first five element in the dataframe we created"
   ]
  },
  {
   "cell_type": "markdown",
   "id": "38d24a5a-4ace-4073-a97d-fe20fba9018c",
   "metadata": {},
   "source": [
    "Convert a DataFrame to an Array\n",
    "DataFrame is more advanced, right now we need to first dive into arrays, a fundamental datastructure(Now you actually understand the foundation of computer science, it's about algorithms and data strutures. So this is very helpful, since I have the background in computer science, I know how to store data in the right data structure and how to design an algorithm to systematically solve a computational problem and optimize the time and space complexitity at the same time)\n",
    "\n",
    "a vector of numbers --> matrix "
   ]
  },
  {
   "cell_type": "code",
   "execution_count": 18,
   "id": "2d133643-8b7b-4afa-ae9e-50527fe7dc3b",
   "metadata": {},
   "outputs": [],
   "source": [
    "pivoted_colors = colors.pivot(index=\"wavelength1\", columns=\"wavelength2\", values=\"rating\")"
   ]
  },
  {
   "cell_type": "code",
   "execution_count": 19,
   "id": "2495ab0c-1107-4d27-b479-1b17200cc5e2",
   "metadata": {},
   "outputs": [
    {
     "data": {
      "text/html": [
       "<div>\n",
       "<style scoped>\n",
       "    .dataframe tbody tr th:only-of-type {\n",
       "        vertical-align: middle;\n",
       "    }\n",
       "\n",
       "    .dataframe tbody tr th {\n",
       "        vertical-align: top;\n",
       "    }\n",
       "\n",
       "    .dataframe thead th {\n",
       "        text-align: right;\n",
       "    }\n",
       "</style>\n",
       "<table border=\"1\" class=\"dataframe\">\n",
       "  <thead>\n",
       "    <tr style=\"text-align: right;\">\n",
       "      <th>wavelength2</th>\n",
       "      <th>434</th>\n",
       "      <th>445</th>\n",
       "      <th>465</th>\n",
       "      <th>472</th>\n",
       "      <th>490</th>\n",
       "      <th>504</th>\n",
       "      <th>537</th>\n",
       "      <th>555</th>\n",
       "      <th>584</th>\n",
       "      <th>600</th>\n",
       "      <th>610</th>\n",
       "      <th>628</th>\n",
       "      <th>651</th>\n",
       "      <th>674</th>\n",
       "    </tr>\n",
       "    <tr>\n",
       "      <th>wavelength1</th>\n",
       "      <th></th>\n",
       "      <th></th>\n",
       "      <th></th>\n",
       "      <th></th>\n",
       "      <th></th>\n",
       "      <th></th>\n",
       "      <th></th>\n",
       "      <th></th>\n",
       "      <th></th>\n",
       "      <th></th>\n",
       "      <th></th>\n",
       "      <th></th>\n",
       "      <th></th>\n",
       "      <th></th>\n",
       "    </tr>\n",
       "  </thead>\n",
       "  <tbody>\n",
       "    <tr>\n",
       "      <th>434</th>\n",
       "      <td>1.000000</td>\n",
       "      <td>0.978166</td>\n",
       "      <td>0.874416</td>\n",
       "      <td>0.874416</td>\n",
       "      <td>0.751758</td>\n",
       "      <td>0.592717</td>\n",
       "      <td>0.615033</td>\n",
       "      <td>0.534020</td>\n",
       "      <td>0.433677</td>\n",
       "      <td>0.615033</td>\n",
       "      <td>0.651414</td>\n",
       "      <td>0.693060</td>\n",
       "      <td>0.704648</td>\n",
       "      <td>0.734707</td>\n",
       "    </tr>\n",
       "    <tr>\n",
       "      <th>445</th>\n",
       "      <td>0.978166</td>\n",
       "      <td>1.000000</td>\n",
       "      <td>0.899657</td>\n",
       "      <td>0.881151</td>\n",
       "      <td>0.780808</td>\n",
       "      <td>0.651414</td>\n",
       "      <td>0.615033</td>\n",
       "      <td>0.615033</td>\n",
       "      <td>0.433677</td>\n",
       "      <td>0.534020</td>\n",
       "      <td>0.615033</td>\n",
       "      <td>0.680464</td>\n",
       "      <td>0.704648</td>\n",
       "      <td>0.715376</td>\n",
       "    </tr>\n",
       "    <tr>\n",
       "      <th>465</th>\n",
       "      <td>0.874416</td>\n",
       "      <td>0.899657</td>\n",
       "      <td>1.000000</td>\n",
       "      <td>0.969495</td>\n",
       "      <td>0.890699</td>\n",
       "      <td>0.743483</td>\n",
       "      <td>0.666667</td>\n",
       "      <td>0.634363</td>\n",
       "      <td>0.433677</td>\n",
       "      <td>0.333333</td>\n",
       "      <td>0.433677</td>\n",
       "      <td>0.333333</td>\n",
       "      <td>0.566323</td>\n",
       "      <td>0.492374</td>\n",
       "    </tr>\n",
       "    <tr>\n",
       "      <th>472</th>\n",
       "      <td>0.874416</td>\n",
       "      <td>0.881151</td>\n",
       "      <td>0.969495</td>\n",
       "      <td>1.000000</td>\n",
       "      <td>0.910798</td>\n",
       "      <td>0.799313</td>\n",
       "      <td>0.666667</td>\n",
       "      <td>0.651414</td>\n",
       "      <td>0.433677</td>\n",
       "      <td>0.333333</td>\n",
       "      <td>0.000000</td>\n",
       "      <td>0.333333</td>\n",
       "      <td>0.433677</td>\n",
       "      <td>0.534020</td>\n",
       "    </tr>\n",
       "    <tr>\n",
       "      <th>490</th>\n",
       "      <td>0.751758</td>\n",
       "      <td>0.780808</td>\n",
       "      <td>0.890699</td>\n",
       "      <td>0.910798</td>\n",
       "      <td>1.000000</td>\n",
       "      <td>0.928443</td>\n",
       "      <td>0.830454</td>\n",
       "      <td>0.804991</td>\n",
       "      <td>0.615033</td>\n",
       "      <td>0.433677</td>\n",
       "      <td>0.433677</td>\n",
       "      <td>0.333333</td>\n",
       "      <td>0.433677</td>\n",
       "      <td>0.000000</td>\n",
       "    </tr>\n",
       "    <tr>\n",
       "      <th>504</th>\n",
       "      <td>0.592717</td>\n",
       "      <td>0.651414</td>\n",
       "      <td>0.743483</td>\n",
       "      <td>0.799313</td>\n",
       "      <td>0.928443</td>\n",
       "      <td>1.000000</td>\n",
       "      <td>0.930797</td>\n",
       "      <td>0.884404</td>\n",
       "      <td>0.715376</td>\n",
       "      <td>0.634363</td>\n",
       "      <td>0.433677</td>\n",
       "      <td>0.433677</td>\n",
       "      <td>0.433677</td>\n",
       "      <td>0.333333</td>\n",
       "    </tr>\n",
       "    <tr>\n",
       "      <th>537</th>\n",
       "      <td>0.615033</td>\n",
       "      <td>0.615033</td>\n",
       "      <td>0.666667</td>\n",
       "      <td>0.666667</td>\n",
       "      <td>0.830454</td>\n",
       "      <td>0.930797</td>\n",
       "      <td>1.000000</td>\n",
       "      <td>0.954441</td>\n",
       "      <td>0.780808</td>\n",
       "      <td>0.715376</td>\n",
       "      <td>0.566323</td>\n",
       "      <td>0.433677</td>\n",
       "      <td>0.433677</td>\n",
       "      <td>0.000000</td>\n",
       "    </tr>\n",
       "    <tr>\n",
       "      <th>555</th>\n",
       "      <td>0.534020</td>\n",
       "      <td>0.615033</td>\n",
       "      <td>0.634363</td>\n",
       "      <td>0.651414</td>\n",
       "      <td>0.804991</td>\n",
       "      <td>0.884404</td>\n",
       "      <td>0.954441</td>\n",
       "      <td>1.000000</td>\n",
       "      <td>0.839505</td>\n",
       "      <td>0.759585</td>\n",
       "      <td>0.534020</td>\n",
       "      <td>0.492374</td>\n",
       "      <td>0.433677</td>\n",
       "      <td>0.433677</td>\n",
       "    </tr>\n",
       "    <tr>\n",
       "      <th>584</th>\n",
       "      <td>0.433677</td>\n",
       "      <td>0.433677</td>\n",
       "      <td>0.433677</td>\n",
       "      <td>0.433677</td>\n",
       "      <td>0.615033</td>\n",
       "      <td>0.715376</td>\n",
       "      <td>0.780808</td>\n",
       "      <td>0.839505</td>\n",
       "      <td>1.000000</td>\n",
       "      <td>0.921143</td>\n",
       "      <td>0.856067</td>\n",
       "      <td>0.810455</td>\n",
       "      <td>0.767010</td>\n",
       "      <td>0.787243</td>\n",
       "    </tr>\n",
       "    <tr>\n",
       "      <th>600</th>\n",
       "      <td>0.615033</td>\n",
       "      <td>0.534020</td>\n",
       "      <td>0.333333</td>\n",
       "      <td>0.333333</td>\n",
       "      <td>0.433677</td>\n",
       "      <td>0.634363</td>\n",
       "      <td>0.715376</td>\n",
       "      <td>0.759585</td>\n",
       "      <td>0.921143</td>\n",
       "      <td>1.000000</td>\n",
       "      <td>0.956411</td>\n",
       "      <td>0.899657</td>\n",
       "      <td>0.870928</td>\n",
       "      <td>0.815719</td>\n",
       "    </tr>\n",
       "    <tr>\n",
       "      <th>610</th>\n",
       "      <td>0.651414</td>\n",
       "      <td>0.615033</td>\n",
       "      <td>0.433677</td>\n",
       "      <td>0.000000</td>\n",
       "      <td>0.433677</td>\n",
       "      <td>0.433677</td>\n",
       "      <td>0.566323</td>\n",
       "      <td>0.534020</td>\n",
       "      <td>0.856067</td>\n",
       "      <td>0.956411</td>\n",
       "      <td>1.000000</td>\n",
       "      <td>0.960271</td>\n",
       "      <td>0.930797</td>\n",
       "      <td>0.913454</td>\n",
       "    </tr>\n",
       "    <tr>\n",
       "      <th>628</th>\n",
       "      <td>0.693060</td>\n",
       "      <td>0.680464</td>\n",
       "      <td>0.333333</td>\n",
       "      <td>0.333333</td>\n",
       "      <td>0.333333</td>\n",
       "      <td>0.433677</td>\n",
       "      <td>0.433677</td>\n",
       "      <td>0.492374</td>\n",
       "      <td>0.810455</td>\n",
       "      <td>0.899657</td>\n",
       "      <td>0.960271</td>\n",
       "      <td>1.000000</td>\n",
       "      <td>0.976473</td>\n",
       "      <td>0.944170</td>\n",
       "    </tr>\n",
       "    <tr>\n",
       "      <th>651</th>\n",
       "      <td>0.704648</td>\n",
       "      <td>0.704648</td>\n",
       "      <td>0.566323</td>\n",
       "      <td>0.433677</td>\n",
       "      <td>0.433677</td>\n",
       "      <td>0.433677</td>\n",
       "      <td>0.433677</td>\n",
       "      <td>0.433677</td>\n",
       "      <td>0.767010</td>\n",
       "      <td>0.870928</td>\n",
       "      <td>0.930797</td>\n",
       "      <td>0.976473</td>\n",
       "      <td>1.000000</td>\n",
       "      <td>0.960271</td>\n",
       "    </tr>\n",
       "    <tr>\n",
       "      <th>674</th>\n",
       "      <td>0.734707</td>\n",
       "      <td>0.715376</td>\n",
       "      <td>0.492374</td>\n",
       "      <td>0.534020</td>\n",
       "      <td>0.000000</td>\n",
       "      <td>0.333333</td>\n",
       "      <td>0.000000</td>\n",
       "      <td>0.433677</td>\n",
       "      <td>0.787243</td>\n",
       "      <td>0.815719</td>\n",
       "      <td>0.913454</td>\n",
       "      <td>0.944170</td>\n",
       "      <td>0.960271</td>\n",
       "      <td>1.000000</td>\n",
       "    </tr>\n",
       "  </tbody>\n",
       "</table>\n",
       "</div>"
      ],
      "text/plain": [
       "wavelength2       434       445       465       472       490       504  \\\n",
       "wavelength1                                                               \n",
       "434          1.000000  0.978166  0.874416  0.874416  0.751758  0.592717   \n",
       "445          0.978166  1.000000  0.899657  0.881151  0.780808  0.651414   \n",
       "465          0.874416  0.899657  1.000000  0.969495  0.890699  0.743483   \n",
       "472          0.874416  0.881151  0.969495  1.000000  0.910798  0.799313   \n",
       "490          0.751758  0.780808  0.890699  0.910798  1.000000  0.928443   \n",
       "504          0.592717  0.651414  0.743483  0.799313  0.928443  1.000000   \n",
       "537          0.615033  0.615033  0.666667  0.666667  0.830454  0.930797   \n",
       "555          0.534020  0.615033  0.634363  0.651414  0.804991  0.884404   \n",
       "584          0.433677  0.433677  0.433677  0.433677  0.615033  0.715376   \n",
       "600          0.615033  0.534020  0.333333  0.333333  0.433677  0.634363   \n",
       "610          0.651414  0.615033  0.433677  0.000000  0.433677  0.433677   \n",
       "628          0.693060  0.680464  0.333333  0.333333  0.333333  0.433677   \n",
       "651          0.704648  0.704648  0.566323  0.433677  0.433677  0.433677   \n",
       "674          0.734707  0.715376  0.492374  0.534020  0.000000  0.333333   \n",
       "\n",
       "wavelength2       537       555       584       600       610       628  \\\n",
       "wavelength1                                                               \n",
       "434          0.615033  0.534020  0.433677  0.615033  0.651414  0.693060   \n",
       "445          0.615033  0.615033  0.433677  0.534020  0.615033  0.680464   \n",
       "465          0.666667  0.634363  0.433677  0.333333  0.433677  0.333333   \n",
       "472          0.666667  0.651414  0.433677  0.333333  0.000000  0.333333   \n",
       "490          0.830454  0.804991  0.615033  0.433677  0.433677  0.333333   \n",
       "504          0.930797  0.884404  0.715376  0.634363  0.433677  0.433677   \n",
       "537          1.000000  0.954441  0.780808  0.715376  0.566323  0.433677   \n",
       "555          0.954441  1.000000  0.839505  0.759585  0.534020  0.492374   \n",
       "584          0.780808  0.839505  1.000000  0.921143  0.856067  0.810455   \n",
       "600          0.715376  0.759585  0.921143  1.000000  0.956411  0.899657   \n",
       "610          0.566323  0.534020  0.856067  0.956411  1.000000  0.960271   \n",
       "628          0.433677  0.492374  0.810455  0.899657  0.960271  1.000000   \n",
       "651          0.433677  0.433677  0.767010  0.870928  0.930797  0.976473   \n",
       "674          0.000000  0.433677  0.787243  0.815719  0.913454  0.944170   \n",
       "\n",
       "wavelength2       651       674  \n",
       "wavelength1                      \n",
       "434          0.704648  0.734707  \n",
       "445          0.704648  0.715376  \n",
       "465          0.566323  0.492374  \n",
       "472          0.433677  0.534020  \n",
       "490          0.433677  0.000000  \n",
       "504          0.433677  0.333333  \n",
       "537          0.433677  0.000000  \n",
       "555          0.433677  0.433677  \n",
       "584          0.767010  0.787243  \n",
       "600          0.870928  0.815719  \n",
       "610          0.930797  0.913454  \n",
       "628          0.976473  0.944170  \n",
       "651          1.000000  0.960271  \n",
       "674          0.960271  1.000000  "
      ]
     },
     "execution_count": 19,
     "metadata": {},
     "output_type": "execute_result"
    }
   ],
   "source": [
    "pivoted_colors"
   ]
  },
  {
   "cell_type": "code",
   "execution_count": 20,
   "id": "1653f778-65a2-4436-b0ac-619763d3101c",
   "metadata": {},
   "outputs": [
    {
     "data": {
      "text/plain": [
       "<matplotlib.image.AxesImage at 0x7fb34aea7ad0>"
      ]
     },
     "execution_count": 20,
     "metadata": {},
     "output_type": "execute_result"
    },
    {
     "data": {
      "image/png": "[encoded data removed]",
      "text/plain": [
       "<Figure size 288x288 with 1 Axes>"
      ]
     },
     "metadata": {
      "needs_background": "light"
     },
     "output_type": "display_data"
    }
   ],
   "source": [
    "plt.matshow(pivoted_colors)"
   ]
  },
  {
   "cell_type": "code",
   "execution_count": 21,
   "id": "cc4aea68-b2f6-4275-bd7f-1eba1375aa8a",
   "metadata": {},
   "outputs": [
    {
     "data": {
      "text/plain": [
       "(14, 14)"
      ]
     },
     "execution_count": 21,
     "metadata": {},
     "output_type": "execute_result"
    }
   ],
   "source": [
    "np.shape(pivoted_colors)"
   ]
  },
  {
   "cell_type": "code",
   "execution_count": 24,
   "id": "3ce0fc20-186e-4687-8dc1-c361fab892c7",
   "metadata": {},
   "outputs": [
    {
     "data": {
      "text/html": [
       "<div>\n",
       "<style scoped>\n",
       "    .dataframe tbody tr th:only-of-type {\n",
       "        vertical-align: middle;\n",
       "    }\n",
       "\n",
       "    .dataframe tbody tr th {\n",
       "        vertical-align: top;\n",
       "    }\n",
       "\n",
       "    .dataframe thead th {\n",
       "        text-align: right;\n",
       "    }\n",
       "</style>\n",
       "<table border=\"1\" class=\"dataframe\">\n",
       "  <thead>\n",
       "    <tr style=\"text-align: right;\">\n",
       "      <th></th>\n",
       "      <th>label</th>\n",
       "      <th>x</th>\n",
       "      <th>y</th>\n",
       "    </tr>\n",
       "  </thead>\n",
       "  <tbody>\n",
       "    <tr>\n",
       "      <th>0</th>\n",
       "      <td>434</td>\n",
       "      <td>-0.428512</td>\n",
       "      <td>-0.174495</td>\n",
       "    </tr>\n",
       "    <tr>\n",
       "      <th>1</th>\n",
       "      <td>445</td>\n",
       "      <td>-0.406710</td>\n",
       "      <td>-0.209747</td>\n",
       "    </tr>\n",
       "    <tr>\n",
       "      <th>2</th>\n",
       "      <td>465</td>\n",
       "      <td>-0.260319</td>\n",
       "      <td>-0.425402</td>\n",
       "    </tr>\n",
       "    <tr>\n",
       "      <th>3</th>\n",
       "      <td>472</td>\n",
       "      <td>-0.200744</td>\n",
       "      <td>-0.471378</td>\n",
       "    </tr>\n",
       "    <tr>\n",
       "      <th>4</th>\n",
       "      <td>490</td>\n",
       "      <td>0.088991</td>\n",
       "      <td>-0.471238</td>\n",
       "    </tr>\n",
       "    <tr>\n",
       "      <th>5</th>\n",
       "      <td>504</td>\n",
       "      <td>0.265083</td>\n",
       "      <td>-0.375652</td>\n",
       "    </tr>\n",
       "    <tr>\n",
       "      <th>6</th>\n",
       "      <td>537</td>\n",
       "      <td>0.439988</td>\n",
       "      <td>-0.252703</td>\n",
       "    </tr>\n",
       "    <tr>\n",
       "      <th>7</th>\n",
       "      <td>555</td>\n",
       "      <td>0.510181</td>\n",
       "      <td>-0.140134</td>\n",
       "    </tr>\n",
       "    <tr>\n",
       "      <th>8</th>\n",
       "      <td>584</td>\n",
       "      <td>0.328258</td>\n",
       "      <td>0.291388</td>\n",
       "    </tr>\n",
       "    <tr>\n",
       "      <th>9</th>\n",
       "      <td>600</td>\n",
       "      <td>0.167199</td>\n",
       "      <td>0.417730</td>\n",
       "    </tr>\n",
       "    <tr>\n",
       "      <th>10</th>\n",
       "      <td>610</td>\n",
       "      <td>0.018261</td>\n",
       "      <td>0.491689</td>\n",
       "    </tr>\n",
       "    <tr>\n",
       "      <th>11</th>\n",
       "      <td>628</td>\n",
       "      <td>-0.101850</td>\n",
       "      <td>0.448275</td>\n",
       "    </tr>\n",
       "    <tr>\n",
       "      <th>12</th>\n",
       "      <td>651</td>\n",
       "      <td>-0.163974</td>\n",
       "      <td>0.395320</td>\n",
       "    </tr>\n",
       "    <tr>\n",
       "      <th>13</th>\n",
       "      <td>674</td>\n",
       "      <td>-0.264433</td>\n",
       "      <td>0.485990</td>\n",
       "    </tr>\n",
       "  </tbody>\n",
       "</table>\n",
       "</div>"
      ],
      "text/plain": [
       "    label         x         y\n",
       "0     434 -0.428512 -0.174495\n",
       "1     445 -0.406710 -0.209747\n",
       "2     465 -0.260319 -0.425402\n",
       "3     472 -0.200744 -0.471378\n",
       "4     490  0.088991 -0.471238\n",
       "5     504  0.265083 -0.375652\n",
       "6     537  0.439988 -0.252703\n",
       "7     555  0.510181 -0.140134\n",
       "8     584  0.328258  0.291388\n",
       "9     600  0.167199  0.417730\n",
       "10    610  0.018261  0.491689\n",
       "11    628 -0.101850  0.448275\n",
       "12    651 -0.163974  0.395320\n",
       "13    674 -0.264433  0.485990"
      ]
     },
     "execution_count": 24,
     "metadata": {},
     "output_type": "execute_result"
    }
   ],
   "source": [
    "# multidimensional scaling(MDS) technique, a classic computational modeling technique from Roger Shepard\n",
    "# scikit-learn library: that computes the MDS solution (we do not yet know what the hell is this MDS solution)\n",
    "mds_colors = mds(pivoted_colors)\n",
    "mds_colors"
   ]
  },
  {
   "cell_type": "code",
   "execution_count": 25,
   "id": "f18c6331-9097-4ae7-9eae-10e3bf94c218",
   "metadata": {},
   "outputs": [
    {
     "data": {
      "text/plain": [
       "\u001b[0;31mSignature:\u001b[0m \u001b[0mmds\u001b[0m\u001b[0;34m(\u001b[0m\u001b[0msimilarities\u001b[0m\u001b[0;34m)\u001b[0m\u001b[0;34m\u001b[0m\u001b[0;34m\u001b[0m\u001b[0m\n",
       "\u001b[0;31mSource:\u001b[0m   \n",
       "\u001b[0;32mdef\u001b[0m \u001b[0mmds\u001b[0m\u001b[0;34m(\u001b[0m\u001b[0msimilarities\u001b[0m\u001b[0;34m)\u001b[0m\u001b[0;34m:\u001b[0m\u001b[0;34m\u001b[0m\n",
       "\u001b[0;34m\u001b[0m    \u001b[0;34m\"\"\"Computes nonmetric multidimensional scaling on the given\u001b[0m\n",
       "\u001b[0;34m    distances, projecting the data into a 2D space.\u001b[0m\n",
       "\u001b[0;34m\u001b[0m\n",
       "\u001b[0;34m    Parameters\u001b[0m\n",
       "\u001b[0;34m    ----------\u001b[0m\n",
       "\u001b[0;34m    distances : dataframe of shape (n, n)\u001b[0m\n",
       "\u001b[0;34m        The distances between points (i.e., with zeros along the diagonal)\u001b[0m\n",
       "\u001b[0;34m\u001b[0m\n",
       "\u001b[0;34m    Returns\u001b[0m\n",
       "\u001b[0;34m    -------\u001b[0m\n",
       "\u001b[0;34m    dataframe of shape (n, 2)\u001b[0m\n",
       "\u001b[0;34m\u001b[0m\n",
       "\u001b[0;34m    \"\"\"\u001b[0m\u001b[0;34m\u001b[0m\n",
       "\u001b[0;34m\u001b[0m    \u001b[0;31m# parameters that are used by both of the MDS runs\u001b[0m\u001b[0;34m\u001b[0m\n",
       "\u001b[0;34m\u001b[0m    \u001b[0mparams\u001b[0m \u001b[0;34m=\u001b[0m \u001b[0;34m{\u001b[0m\u001b[0;34m\u001b[0m\n",
       "\u001b[0;34m\u001b[0m        \u001b[0;34m'random_state'\u001b[0m\u001b[0;34m:\u001b[0m \u001b[0;36m23497\u001b[0m\u001b[0;34m,\u001b[0m\u001b[0;34m\u001b[0m\n",
       "\u001b[0;34m\u001b[0m        \u001b[0;34m'eps'\u001b[0m\u001b[0;34m:\u001b[0m \u001b[0;36m1e-6\u001b[0m\u001b[0;34m,\u001b[0m\u001b[0;34m\u001b[0m\n",
       "\u001b[0;34m\u001b[0m        \u001b[0;34m'max_iter'\u001b[0m\u001b[0;34m:\u001b[0m \u001b[0;36m500\u001b[0m\u001b[0;34m,\u001b[0m\u001b[0;34m\u001b[0m\n",
       "\u001b[0;34m\u001b[0m        \u001b[0;34m'dissimilarity'\u001b[0m\u001b[0;34m:\u001b[0m \u001b[0;34m\"precomputed\"\u001b[0m\u001b[0;34m,\u001b[0m\u001b[0;34m\u001b[0m\n",
       "\u001b[0;34m\u001b[0m        \u001b[0;34m'n_jobs'\u001b[0m\u001b[0;34m:\u001b[0m \u001b[0;36m1\u001b[0m\u001b[0;34m,\u001b[0m\u001b[0;34m\u001b[0m\n",
       "\u001b[0;34m\u001b[0m        \u001b[0;34m'n_components'\u001b[0m\u001b[0;34m:\u001b[0m \u001b[0;36m2\u001b[0m\u001b[0;34m\u001b[0m\n",
       "\u001b[0;34m\u001b[0m    \u001b[0;34m}\u001b[0m\u001b[0;34m\u001b[0m\n",
       "\u001b[0;34m\u001b[0m\u001b[0;34m\u001b[0m\n",
       "\u001b[0;34m\u001b[0m    \u001b[0;31m# first fit the metric MDS, which we will use as initialization\u001b[0m\u001b[0;34m\u001b[0m\n",
       "\u001b[0;34m\u001b[0m    \u001b[0;31m# for the nonmetric MDS algorithm\u001b[0m\u001b[0;34m\u001b[0m\n",
       "\u001b[0;34m\u001b[0m    \u001b[0mmds\u001b[0m \u001b[0;34m=\u001b[0m \u001b[0mmanifold\u001b[0m\u001b[0;34m.\u001b[0m\u001b[0mMDS\u001b[0m\u001b[0;34m(\u001b[0m\u001b[0mmetric\u001b[0m\u001b[0;34m=\u001b[0m\u001b[0;32mTrue\u001b[0m\u001b[0;34m,\u001b[0m \u001b[0mn_init\u001b[0m\u001b[0;34m=\u001b[0m\u001b[0;36m1\u001b[0m\u001b[0;34m,\u001b[0m \u001b[0;34m**\u001b[0m\u001b[0mparams\u001b[0m\u001b[0;34m)\u001b[0m\u001b[0;34m\u001b[0m\n",
       "\u001b[0;34m\u001b[0m    \u001b[0mpos\u001b[0m \u001b[0;34m=\u001b[0m \u001b[0mmds\u001b[0m\u001b[0;34m.\u001b[0m\u001b[0mfit\u001b[0m\u001b[0;34m(\u001b[0m\u001b[0;36m1\u001b[0m \u001b[0;34m-\u001b[0m \u001b[0msimilarities\u001b[0m\u001b[0;34m)\u001b[0m\u001b[0;34m.\u001b[0m\u001b[0membedding_\u001b[0m\u001b[0;34m\u001b[0m\n",
       "\u001b[0;34m\u001b[0m\u001b[0;34m\u001b[0m\n",
       "\u001b[0;34m\u001b[0m    \u001b[0;31m# now run the nonmetric MDS algorithm\u001b[0m\u001b[0;34m\u001b[0m\n",
       "\u001b[0;34m\u001b[0m    \u001b[0mnmds\u001b[0m \u001b[0;34m=\u001b[0m \u001b[0mmanifold\u001b[0m\u001b[0;34m.\u001b[0m\u001b[0mMDS\u001b[0m\u001b[0;34m(\u001b[0m\u001b[0mmetric\u001b[0m\u001b[0;34m=\u001b[0m\u001b[0;32mFalse\u001b[0m\u001b[0;34m,\u001b[0m \u001b[0mn_init\u001b[0m\u001b[0;34m=\u001b[0m\u001b[0;36m1\u001b[0m\u001b[0;34m,\u001b[0m \u001b[0;34m**\u001b[0m\u001b[0mparams\u001b[0m\u001b[0;34m)\u001b[0m\u001b[0;34m\u001b[0m\n",
       "\u001b[0;34m\u001b[0m    \u001b[0mpos\u001b[0m \u001b[0;34m=\u001b[0m \u001b[0mnmds\u001b[0m\u001b[0;34m.\u001b[0m\u001b[0mfit_transform\u001b[0m\u001b[0;34m(\u001b[0m\u001b[0;36m1\u001b[0m \u001b[0;34m-\u001b[0m \u001b[0msimilarities\u001b[0m\u001b[0;34m,\u001b[0m \u001b[0minit\u001b[0m\u001b[0;34m=\u001b[0m\u001b[0mpos\u001b[0m\u001b[0;34m)\u001b[0m\u001b[0;34m\u001b[0m\n",
       "\u001b[0;34m\u001b[0m    \u001b[0;34m\u001b[0m\n",
       "\u001b[0;34m\u001b[0m    \u001b[0mdf\u001b[0m \u001b[0;34m=\u001b[0m \u001b[0mpd\u001b[0m\u001b[0;34m.\u001b[0m\u001b[0mDataFrame\u001b[0m\u001b[0;34m(\u001b[0m\u001b[0mpos\u001b[0m\u001b[0;34m,\u001b[0m \u001b[0mindex\u001b[0m\u001b[0;34m=\u001b[0m\u001b[0msimilarities\u001b[0m\u001b[0;34m.\u001b[0m\u001b[0mindex\u001b[0m\u001b[0;34m.\u001b[0m\u001b[0mcopy\u001b[0m\u001b[0;34m(\u001b[0m\u001b[0;34m)\u001b[0m\u001b[0;34m,\u001b[0m \u001b[0mcolumns\u001b[0m\u001b[0;34m=\u001b[0m\u001b[0;34m[\u001b[0m\u001b[0;34m\"x\"\u001b[0m\u001b[0;34m,\u001b[0m \u001b[0;34m\"y\"\u001b[0m\u001b[0;34m]\u001b[0m\u001b[0;34m)\u001b[0m\u001b[0;34m\u001b[0m\n",
       "\u001b[0;34m\u001b[0m    \u001b[0mdf\u001b[0m\u001b[0;34m.\u001b[0m\u001b[0mindex\u001b[0m\u001b[0;34m.\u001b[0m\u001b[0mname\u001b[0m \u001b[0;34m=\u001b[0m \u001b[0;34m\"label\"\u001b[0m\u001b[0;34m\u001b[0m\n",
       "\u001b[0;34m\u001b[0m    \u001b[0;32mreturn\u001b[0m \u001b[0mdf\u001b[0m\u001b[0;34m.\u001b[0m\u001b[0mreset_index\u001b[0m\u001b[0;34m(\u001b[0m\u001b[0;34m)\u001b[0m\u001b[0;34m\u001b[0m\u001b[0;34m\u001b[0m\u001b[0m\n",
       "\u001b[0;31mFile:\u001b[0m      ~/Desktop/NYU_21Fall/others/NYU_2022/FALL/2023/CCM-site/labs/week-introduction/util.py\n",
       "\u001b[0;31mType:\u001b[0m      function\n"
      ]
     },
     "metadata": {},
     "output_type": "display_data"
    }
   ],
   "source": [
    "mds??"
   ]
  },
  {
   "cell_type": "code",
   "execution_count": 30,
   "id": "97c26bfb-781c-444a-abf7-d1ff6244fe75",
   "metadata": {},
   "outputs": [
    {
     "data": {
      "text/plain": [
       "Text(0, 0.5, 'y')"
      ]
     },
     "execution_count": 30,
     "metadata": {},
     "output_type": "execute_result"
    },
    {
     "data": {
      "image/png": "[encoded data removed]",
      "text/plain": [
       "<Figure size 432x288 with 1 Axes>"
      ]
     },
     "metadata": {
      "needs_background": "light"
     },
     "output_type": "display_data"
    }
   ],
   "source": [
    "# regular scatter plot: try to summarize how many different kind of plots you can make\n",
    "p=plt.scatter(x=mds_colors[\"x\"], y=mds_colors[\"y\"])\n",
    "plt.xlim((-0.6, 0.6))\n",
    "plt.ylim((-0.6, 0.6))\n",
    "plt.title(\"MDS Representation of Similarities\")\n",
    "plt.xlabel(\"x\")\n",
    "plt.ylabel(\"y\")"
   ]
  },
  {
   "cell_type": "code",
   "execution_count": 33,
   "id": "96c23242-4d04-4541-8a77-6311894227e1",
   "metadata": {},
   "outputs": [
    {
     "name": "stdout",
     "output_type": "stream",
     "text": [
      "[434. 445. 465. 472. 490. 504. 537. 555. 584. 600. 610. 628. 651. 674.]\n"
     ]
    },
    {
     "data": {
      "text/plain": [
       "Text(0, 0.5, 'y')"
      ]
     },
     "execution_count": 33,
     "metadata": {},
     "output_type": "execute_result"
    },
    {
     "data": {
      "image/png": "[encoded data removed]",
      "text/plain": [
       "<Figure size 432x288 with 1 Axes>"
      ]
     },
     "metadata": {
      "needs_background": "light"
     },
     "output_type": "display_data"
    }
   ],
   "source": [
    "labels = np.array([row[\"label\"] for _, row in mds_colors.iterrows()])\n",
    "print(labels)\n",
    "plt.scatter(x=mds_colors[\"x\"], y=mds_colors[\"y\"])\n",
    "for i, txt in enumerate(labels):\n",
    "    plt.annotate(txt, (mds_colors[\"x\"][i], mds_colors[\"y\"][i]))\n",
    "plt.xlim(-0.6, 0.6)\n",
    "plt.ylim(-0.6, 0.6)\n",
    "plt.title(\"MDS Represetation of Similarities\")\n",
    "plt.xlabel(\"x\")\n",
    "plt.ylabel(\"y\")"
   ]
  },
  {
   "cell_type": "code",
   "execution_count": 36,
   "id": "5ae8d283-0563-4422-b869-02be1db5a305",
   "metadata": {},
   "outputs": [
    {
     "data": {
      "text/html": [
       "<div>\n",
       "<style scoped>\n",
       "    .dataframe tbody tr th:only-of-type {\n",
       "        vertical-align: middle;\n",
       "    }\n",
       "\n",
       "    .dataframe tbody tr th {\n",
       "        vertical-align: top;\n",
       "    }\n",
       "\n",
       "    .dataframe thead th {\n",
       "        text-align: right;\n",
       "    }\n",
       "</style>\n",
       "<table border=\"1\" class=\"dataframe\">\n",
       "  <thead>\n",
       "    <tr style=\"text-align: right;\">\n",
       "      <th></th>\n",
       "      <th>R</th>\n",
       "      <th>G</th>\n",
       "      <th>B</th>\n",
       "      <th>A</th>\n",
       "    </tr>\n",
       "    <tr>\n",
       "      <th>wavelength</th>\n",
       "      <th></th>\n",
       "      <th></th>\n",
       "      <th></th>\n",
       "      <th></th>\n",
       "    </tr>\n",
       "  </thead>\n",
       "  <tbody>\n",
       "    <tr>\n",
       "      <th>434</th>\n",
       "      <td>0.065812</td>\n",
       "      <td>0.000000</td>\n",
       "      <td>1.000000</td>\n",
       "      <td>1.0</td>\n",
       "    </tr>\n",
       "    <tr>\n",
       "      <th>445</th>\n",
       "      <td>0.000000</td>\n",
       "      <td>0.275946</td>\n",
       "      <td>1.000000</td>\n",
       "      <td>1.0</td>\n",
       "    </tr>\n",
       "    <tr>\n",
       "      <th>465</th>\n",
       "      <td>0.000000</td>\n",
       "      <td>0.699752</td>\n",
       "      <td>1.000000</td>\n",
       "      <td>1.0</td>\n",
       "    </tr>\n",
       "    <tr>\n",
       "      <th>472</th>\n",
       "      <td>0.000000</td>\n",
       "      <td>0.819739</td>\n",
       "      <td>1.000000</td>\n",
       "      <td>1.0</td>\n",
       "    </tr>\n",
       "    <tr>\n",
       "      <th>490</th>\n",
       "      <td>0.000000</td>\n",
       "      <td>1.000000</td>\n",
       "      <td>0.619855</td>\n",
       "      <td>1.0</td>\n",
       "    </tr>\n",
       "    <tr>\n",
       "      <th>504</th>\n",
       "      <td>0.101291</td>\n",
       "      <td>1.000000</td>\n",
       "      <td>0.000000</td>\n",
       "      <td>1.0</td>\n",
       "    </tr>\n",
       "    <tr>\n",
       "      <th>537</th>\n",
       "      <td>0.639101</td>\n",
       "      <td>1.000000</td>\n",
       "      <td>0.000000</td>\n",
       "      <td>1.0</td>\n",
       "    </tr>\n",
       "    <tr>\n",
       "      <th>555</th>\n",
       "      <td>0.872174</td>\n",
       "      <td>1.000000</td>\n",
       "      <td>0.000000</td>\n",
       "      <td>1.0</td>\n",
       "    </tr>\n",
       "    <tr>\n",
       "      <th>584</th>\n",
       "      <td>1.000000</td>\n",
       "      <td>0.731866</td>\n",
       "      <td>0.000000</td>\n",
       "      <td>1.0</td>\n",
       "    </tr>\n",
       "    <tr>\n",
       "      <th>600</th>\n",
       "      <td>1.000000</td>\n",
       "      <td>0.495177</td>\n",
       "      <td>0.000000</td>\n",
       "      <td>1.0</td>\n",
       "    </tr>\n",
       "    <tr>\n",
       "      <th>610</th>\n",
       "      <td>1.000000</td>\n",
       "      <td>0.325811</td>\n",
       "      <td>0.000000</td>\n",
       "      <td>1.0</td>\n",
       "    </tr>\n",
       "    <tr>\n",
       "      <th>628</th>\n",
       "      <td>1.000000</td>\n",
       "      <td>0.000000</td>\n",
       "      <td>0.000000</td>\n",
       "      <td>1.0</td>\n",
       "    </tr>\n",
       "    <tr>\n",
       "      <th>651</th>\n",
       "      <td>1.000000</td>\n",
       "      <td>0.000000</td>\n",
       "      <td>0.000000</td>\n",
       "      <td>1.0</td>\n",
       "    </tr>\n",
       "    <tr>\n",
       "      <th>674</th>\n",
       "      <td>1.000000</td>\n",
       "      <td>0.000000</td>\n",
       "      <td>0.000000</td>\n",
       "      <td>1.0</td>\n",
       "    </tr>\n",
       "  </tbody>\n",
       "</table>\n",
       "</div>"
      ],
      "text/plain": [
       "                   R         G         B    A\n",
       "wavelength                                   \n",
       "434         0.065812  0.000000  1.000000  1.0\n",
       "445         0.000000  0.275946  1.000000  1.0\n",
       "465         0.000000  0.699752  1.000000  1.0\n",
       "472         0.000000  0.819739  1.000000  1.0\n",
       "490         0.000000  1.000000  0.619855  1.0\n",
       "504         0.101291  1.000000  0.000000  1.0\n",
       "537         0.639101  1.000000  0.000000  1.0\n",
       "555         0.872174  1.000000  0.000000  1.0\n",
       "584         1.000000  0.731866  0.000000  1.0\n",
       "600         1.000000  0.495177  0.000000  1.0\n",
       "610         1.000000  0.325811  0.000000  1.0\n",
       "628         1.000000  0.000000  0.000000  1.0\n",
       "651         1.000000  0.000000  0.000000  1.0\n",
       "674         1.000000  0.000000  0.000000  1.0"
      ]
     },
     "execution_count": 36,
     "metadata": {},
     "output_type": "execute_result"
    }
   ],
   "source": [
    "rgba = pd.read_csv(\"data/color_rgba.csv\", index_col=\"wavelength\")\n",
    "rgba"
   ]
  },
  {
   "cell_type": "code",
   "execution_count": 41,
   "id": "6dba5b03-e08b-4699-baf4-0e615d00848c",
   "metadata": {},
   "outputs": [
    {
     "data": {
      "text/plain": [
       "Text(0.5, 0, 'wavelength [nm]')"
      ]
     },
     "execution_count": 41,
     "metadata": {},
     "output_type": "execute_result"
    },
    {
     "data": {
      "image/png": "[encoded data removed]",
      "text/plain": [
       "<Figure size 432x288 with 1 Axes>"
      ]
     },
     "metadata": {
      "needs_background": "light"
     },
     "output_type": "display_data"
    }
   ],
   "source": [
    "plt.plot(labels, np.array(rgba['R']), 'r')\n",
    "plt.plot(labels, np.array(rgba['G']), 'g')\n",
    "plt.plot(labels, np.array(rgba['B']), 'b')\n",
    "plt.title(\"RGB Wavelength Distributions\")\n",
    "plt.xlabel(\"wavelength [nm]\")"
   ]
  },
  {
   "cell_type": "code",
   "execution_count": 42,
   "id": "7ea480e8-45ac-4af6-b5df-23adf80f7ebb",
   "metadata": {},
   "outputs": [
    {
     "data": {
      "text/plain": [
       "Text(0, 0.5, 'y')"
      ]
     },
     "execution_count": 42,
     "metadata": {},
     "output_type": "execute_result"
    },
    {
     "data": {
      "image/png": "[encoded data removed]",
      "text/plain": [
       "<Figure size 432x288 with 1 Axes>"
      ]
     },
     "metadata": {
      "needs_background": "light"
     },
     "output_type": "display_data"
    }
   ],
   "source": [
    "colormarkers = [tuple(x) for x in rgba.to_numpy()]\n",
    "for i in range(len(mds_colors)):\n",
    "    plt.scatter(mds_colors[\"x\"][i], mds_colors[\"y\"][i], color=colormarkers[i])\n",
    "plt.xlim((-0.6, 0.6))\n",
    "plt.ylim((-0.6, 0.6))\n",
    "plt.title(\"MDS Representation of Similarities\")\n",
    "plt.xlabel(\"x\")\n",
    "plt.ylabel(\"y\")"
   ]
  },
  {
   "cell_type": "markdown",
   "id": "4e98f79b-1fbf-4c2e-bb70-887e5de73086",
   "metadata": {},
   "source": [
    "#### Exercise: plot kinship relations... (not an easy one)"
   ]
  },
  {
   "cell_type": "markdown",
   "id": "ecf15c03-0e96-4520-8441-67fbd1fbeb9e",
   "metadata": {},
   "source": [
    "### part 3: OOP"
   ]
  },
  {
   "cell_type": "markdown",
   "id": "f9249ef9-7e9b-440c-a45f-eecc62542b00",
   "metadata": {},
   "source": [
    "class, object, transformations to one object, to multiple objects\n",
    "OOP to build neural network models or reinforcement learning models"
   ]
  },
  {
   "cell_type": "code",
   "execution_count": 45,
   "id": "d835d942-4d83-4ec1-b24c-f8fa97fe06bf",
   "metadata": {},
   "outputs": [],
   "source": [
    "# import libraries\n",
    "import math\n",
    "import numpy as np\n",
    "import matplotlib.pyplot as plt\n",
    "import matplotlib.animation as animation"
   ]
  },
  {
   "cell_type": "code",
   "execution_count": 48,
   "id": "aaeda4ac-3d52-478a-b686-02324e5ad59f",
   "metadata": {},
   "outputs": [],
   "source": [
    "%matplotlib inline"
   ]
  },
  {
   "cell_type": "code",
   "execution_count": 60,
   "id": "69f1df10-691e-4975-b333-c6f0dcc23aea",
   "metadata": {},
   "outputs": [],
   "source": [
    "class Circle(object):\n",
    "    def __init__(self, radius, centre):\n",
    "        self.radius = radius\n",
    "        self.centre = centre\n",
    "    def circumference(self):\n",
    "        return 2.0 * math.pi * self.radius\n",
    "    def area(self):\n",
    "        return math.pi * self.radius ** 2\n",
    "    def point_inside(self, xy):\n",
    "        dist_x = xy[0] - self.centre[0]\n",
    "        dist_y = xy[1] - self.centre[1]\n",
    "        dist = math.hypot(dist_x, dist_y)\n",
    "    \n",
    "        if dist < self.radius:\n",
    "            return True\n",
    "        else: \n",
    "            return False"
   ]
  },
  {
   "cell_type": "code",
   "execution_count": 61,
   "id": "2208cd32-1483-4030-a64a-b80761f4e15f",
   "metadata": {},
   "outputs": [
    {
     "name": "stdout",
     "output_type": "stream",
     "text": [
      "18.84955592153876\n",
      "28.274333882308138\n"
     ]
    },
    {
     "data": {
      "text/plain": [
       "True"
      ]
     },
     "execution_count": 61,
     "metadata": {},
     "output_type": "execute_result"
    }
   ],
   "source": [
    "c1 = Circle(3, (0, 0))\n",
    "print(c1.circumference())\n",
    "print(c1.area())\n",
    "c1.point_inside((1, 1))"
   ]
  },
  {
   "cell_type": "code",
   "execution_count": 92,
   "id": "26e63959-41de-4091-bb5b-ddb84ce63bc7",
   "metadata": {},
   "outputs": [
    {
     "data": {
      "image/png": "[encoded data removed]",
      "text/plain": [
       "<Figure size 432x288 with 1 Axes>"
      ]
     },
     "metadata": {},
     "output_type": "display_data"
    }
   ],
   "source": [
    "c1 = Circle(2, (6, 14))\n",
    "c2 = Circle(3, (10, 7))\n",
    "c3 = Circle(1, (13, 17))\n",
    "circle1 = plt.Circle(c1.centre, c1.radius, facecolor='red', edgecolor='k', alpha=0.9)\n",
    "circle2 = plt.Circle(c2.centre, c2.radius, facecolor='blue', edgecolor='k', alpha=0.9)\n",
    "circle3 = plt.Circle(c3.centre, c3.radius, facecolor='green', edgecolor='k', alpha=0.9)\n",
    "\n",
    "fig = plt.figure()\n",
    "ax = fig.add_subplot(111, autoscale_on=False, xlim=(0, 20), ylim=(0, 20))\n",
    "ax.tick_params(axis='both', which='both', bottom=False, left=False, labelleft=False, labelbottom=False)\n",
    "ax.add_patch(circle1)\n",
    "ax.add_patch(circle2)\n",
    "ax.add_patch(circle3)\n",
    "plt.show()"
   ]
  },
  {
   "cell_type": "code",
   "execution_count": 96,
   "id": "adc2cb87-17ee-4147-9270-d23b647fd428",
   "metadata": {},
   "outputs": [
    {
     "data": {
      "image/png": "[encoded data removed]",
      "text/plain": [
       "<Figure size 432x288 with 1 Axes>"
      ]
     },
     "metadata": {},
     "output_type": "display_data"
    }
   ],
   "source": [
    "# gravitational acceleration on Earth in m*s^-2\n",
    "g = 9.80665\n",
    "# acceleration vector due to g\n",
    "ag = np.array((0,-g))\n",
    "# coefficient of restitution (ratio of velocity after and before bounce)\n",
    "# see http://en.wikipedia.org/wiki/Coefficient_of_restitution\n",
    "cor = 0.9\n",
    "\n",
    "# bounds of the room\n",
    "xlim = (0,30)\n",
    "ylim = (0,20)\n",
    "\n",
    "# position of the ball\n",
    "xy = np.array((3.0,18.0))\n",
    "# velocity of the ball\n",
    "v = np.array((0.2,0.3))\n",
    "\n",
    "# 10 millisecond delta t\n",
    "delta_t = 0.01\n",
    "\n",
    "fig = plt.figure()\n",
    "ax = fig.add_subplot(111, autoscale_on=False, xlim=xlim, ylim=ylim)\n",
    "ax.tick_params(axis='both', which='both', bottom=False, left=False, labelleft=False, labelbottom=False)\n",
    "\n",
    "class Circle():\n",
    "    \n",
    "    def __init__(self, xy, v):\n",
    "        \"\"\"\n",
    "        :param xy: Initial position.\n",
    "        :param v: Initial velocity.\n",
    "        \"\"\"\n",
    "        self.xy = np.array(xy)\n",
    "        self.v = np.array(v)\n",
    "        \n",
    "        self.scatter, = ax.plot([], [], 'o', alpha=0.7, markeredgecolor='k', markersize=20)\n",
    "        \n",
    "    def update(self):\n",
    "        if self.xy[0] <= xlim[0]:\n",
    "            # hit the left wall, reflect x component\n",
    "            self.v[0] = cor * np.abs(self.v[0])\n",
    "            \n",
    "        elif self.xy[0] >= xlim[1]:\n",
    "            # hit the right wall, reflect x component\n",
    "            self.v[0] = - cor * np.abs(self.v[0])\n",
    "            \n",
    "        if self.xy[1] <= ylim[0]:\n",
    "            # hit the left wall, reflect y component\n",
    "            self.v[1] = cor * np.abs(self.v[1])\n",
    "            \n",
    "        elif self.xy[1] >= ylim[1]:\n",
    "            # hit the right wall, reflect y component\n",
    "            self.v[1] = - cor * np.abs(self.v[1])\n",
    "        \n",
    "        # delta t is 0.01\n",
    "        delta_v = delta_t * ag\n",
    "        self.v += delta_v\n",
    "        \n",
    "        self.xy += self.v\n",
    "        \n",
    "        self.xy[0] = np.clip(self.xy[0], xlim[0], xlim[1])\n",
    "        self.xy[1] = np.clip(self.xy[1], ylim[0], ylim[1])\n",
    "        \n",
    "        self.scatter.set_data(self.xy)\n",
    "        \n",
    "circle = Circle(xy, v)\n",
    "\n",
    "# below is a wrapper for animation over time\n",
    "        \n",
    "def init():\n",
    "    return []\n",
    "\n",
    "def animate(t):\n",
    "    # t is time in seconds\n",
    "    global xy, v\n",
    "    \n",
    "    circle.update()\n",
    "    \n",
    "    return circle.scatter \n",
    "\n",
    "# interval in milliseconds\n",
    "# we're watching in slow motion (delta t is shorter than interval)\n",
    "ani = animation.FuncAnimation(fig, animate, np.arange(0,10,delta_t), init_func=init, interval=20, blit=True)\n",
    "plt.show()"
   ]
  },
  {
   "cell_type": "code",
   "execution_count": 95,
   "id": "a2d81bad-af4d-48f2-9a77-546895a4a9e6",
   "metadata": {},
   "outputs": [
    {
     "data": {
      "image/png": "[encoded data removed]",
      "text/plain": [
       "<Figure size 432x288 with 1 Axes>"
      ]
     },
     "metadata": {},
     "output_type": "display_data"
    }
   ],
   "source": [
    "# gravitational acceleration on Earth in m*s^-2\n",
    "g = 9.80665\n",
    "# acceleration vector due to g\n",
    "ag = np.array((0,-g))\n",
    "# coefficient of restitution (ratio of velocity after and before bounce)\n",
    "# see http://en.wikipedia.org/wiki/Coefficient_of_restitution\n",
    "cor = 0.9\n",
    "\n",
    "# bounds of the room\n",
    "xlim = (0,30)\n",
    "ylim = (0,20)\n",
    "\n",
    "# 10 millisecond delta t\n",
    "delta_t = 0.01\n",
    "\n",
    "fig = plt.figure()\n",
    "ax = fig.add_subplot(111, autoscale_on=False, xlim=xlim, ylim=ylim)\n",
    "ax.tick_params(axis='both', which='both', bottom=False, left=False, labelleft=False, labelbottom=False)\n",
    "\n",
    "class Circle():\n",
    "    \n",
    "    def __init__(self, xy, v):\n",
    "        \"\"\"\n",
    "        :param xy: Initial position.\n",
    "        :param v: Initial velocity.\n",
    "        \"\"\"\n",
    "        self.xy = np.array(xy)\n",
    "        self.v = np.array(v)\n",
    "        \n",
    "        self.scatter, = ax.plot([], [], 'o', alpha=0.7, markeredgecolor='k', markersize=20)\n",
    "        \n",
    "    def update(self):\n",
    "        if self.xy[0] <= xlim[0]:\n",
    "            # hit the left wall, reflect x component\n",
    "            self.v[0] = cor * np.abs(self.v[0])\n",
    "            \n",
    "        elif self.xy[0] >= xlim[1]:\n",
    "            self.v[0] = - cor * np.abs(self.v[0])\n",
    "            \n",
    "        if self.xy[1] <= ylim[0]:\n",
    "            # hit the left wall, reflect y component\n",
    "            self.v[1] = cor * np.abs(self.v[1])\n",
    "            \n",
    "        elif self.xy[1] >= ylim[1]:\n",
    "            self.v[1] = - cor * np.abs(self.v[1])\n",
    "        \n",
    "        # delta t is 0.01\n",
    "        delta_v = delta_t * ag\n",
    "        self.v += delta_v\n",
    "        \n",
    "        self.xy += self.v\n",
    "        \n",
    "        self.xy[0] = np.clip(self.xy[0], xlim[0], xlim[1])\n",
    "        self.xy[1] = np.clip(self.xy[1], ylim[0], ylim[1])\n",
    "        \n",
    "        self.scatter.set_data(self.xy)\n",
    "        \n",
    "        \n",
    "circles = [Circle((3.0,18.0), (0.2,0.3)), Circle((4.0,17.0), (-0.2,0.1)), Circle((21.0,19.0), (-0.3,0.5)),\n",
    "         Circle((28.0,16.0), (-0.1,0.4)), Circle((5.0,14.0), (-0.3,0.6)), Circle((5.0,14.0), (0.5,0.1))]\n",
    "\n",
    "# below is a wrapper for animation over time\n",
    "\n",
    "def init():\n",
    "    return []\n",
    "\n",
    "def animate(t):\n",
    "    # t is time in seconds\n",
    "    global xy, v\n",
    "\n",
    "    for circle in circles:\n",
    "        circle.update()\n",
    "    \n",
    "    # have to return an iterable\n",
    "    return [circle.scatter for circle in circles]\n",
    "\n",
    "# interval in milliseconds\n",
    "# we're watching in slow motion (delta t is shorter than interval)\n",
    "ani = animation.FuncAnimation(fig, animate, np.arange(0,10,delta_t), init_func=init, interval=20, blit=True)\n",
    "plt.show()"
   ]
  },
  {
   "cell_type": "code",
   "execution_count": null,
   "id": "2c5649b3-2b0e-4edc-9d3c-1ad416981678",
   "metadata": {},
   "outputs": [],
   "source": []
  }
 ],
 "metadata": {
  "kernelspec": {
   "display_name": "Python 3 (ipykernel)",
   "language": "python",
   "name": "python3"
  },
  "language_info": {
   "codemirror_mode": {
    "name": "ipython",
    "version": 3
   },
   "file_extension": ".py",
   "mimetype": "text/x-python",
   "name": "python",
   "nbconvert_exporter": "python",
   "pygments_lexer": "ipython3",
   "version": "3.7.11"
  }
 },
 "nbformat": 4,
 "nbformat_minor": 5
}
